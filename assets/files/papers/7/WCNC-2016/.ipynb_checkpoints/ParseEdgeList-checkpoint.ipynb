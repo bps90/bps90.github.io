{
 "metadata": {
  "name": "",
  "signature": "sha256:ff125a7e55001c106f8fbc3a423fce14d3050550a263c5c1554c142a03638144"
 },
 "nbformat": 3,
 "nbformat_minor": 0,
 "worksheets": [
  {
   "cells": [
    {
     "cell_type": "code",
     "collapsed": false,
     "input": [
      "from random import randrange\n",
      "from os import listdir\n",
      "from os.path import isfile, join\n",
      "\n",
      "def readFile(fileName, numNodes):\n",
      "    f = open(fileName, 'r')\n",
      "    outFileName = \"./topology/newTopologys/edge\"+numNodes+\".edgelist\"\n",
      "    outputFile = open(outFileName, 'w')\n",
      "    \n",
      "    for l in f.readlines():\n",
      "        split = l.split()\n",
      "        gain = int(randrange(20)+50)\n",
      "        gain = -gain\n",
      "        outputFile.write(split[0] +\" \"+ split[1] +\" \"+ str(gain) + \"\\n\")\n",
      "\n",
      "#readFile(\"./topology/newTopologys/10-edge-100.txt\", \"100\")\n",
      "#readFile(\"./topology/newTopologys/10-edge-200.txt\", \"200\")\n",
      "#readFile(\"./topology/newTopologys/10-edge-300.txt\", \"300\")\n",
      "#readFile(\"./topology/newTopologys/10-edge-400.txt\", \"400\")\n",
      "#readFile(\"./topology/newTopologys/10-edge-500.txt\", \"500\")\n",
      "    "
     ],
     "language": "python",
     "metadata": {},
     "outputs": [],
     "prompt_number": 3
    },
    {
     "cell_type": "code",
     "collapsed": false,
     "input": [
      "\n",
      "\n",
      "def parseFile(directory, numNodes):\n",
      "    onlyfiles = [ f for f in listdir(directory) if isfile(join(directory,f)) ]\n",
      "    \n",
      "    for f in onlyfiles:\n",
      "        idTopology = f.split(\"-\")[0]\n",
      "        inputFile = open(directory+f, 'r')\n",
      "        outFileName = directory+\"out/\"+idTopology+\"-edge-\"+str(numNodes)+\".edgelist\"\n",
      "        outputFile = open(outFileName, 'w')\n",
      "\n",
      "        for l in inputFile.readlines():\n",
      "            split = l.split()\n",
      "            gain = int(randrange(20)+50)\n",
      "            gain = -gain\n",
      "            outputFile.write(split[0] +\" \"+ split[1] +\" \"+ str(gain) + \"\\n\")\n",
      "        \n",
      "        \n",
      "\n",
      "directory =  \"./topology/100-nodes-EdgeList/\"\n",
      "onlyfiles = [ f for f in listdir(directory) if isfile(join(directory,f)) ]\n",
      "print onlyfiles\n",
      "#parseFile(directory, 100)\n",
      "\n",
      "for i in range(100, 600, 100):\n",
      "    directory = \"./topology/\"\n",
      "    directory += str(i)\n",
      "    directory += \"-nodes-EdgeList/\"\n",
      "    parseFile(directory, i)"
     ],
     "language": "python",
     "metadata": {},
     "outputs": [
      {
       "output_type": "stream",
       "stream": "stdout",
       "text": [
        "['1-edge-100.edgelist', '1-edge-100.txt', '10-edge-100.txt', '2-edge-100.txt', '3-edge-100.txt', '4-edge-100.txt', '5-edge-100.txt', '6-edge-100.txt', '7-edge-100.txt', '8-edge-100.txt', '9-edge-100.txt']\n"
       ]
      }
     ],
     "prompt_number": 23
    }
   ],
   "metadata": {}
  }
 ]
}