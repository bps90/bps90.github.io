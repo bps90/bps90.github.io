{
 "cells": [
  {
   "cell_type": "markdown",
   "metadata": {},
   "source": [
    "Parse the cooja log output to corret CSV"
   ]
  },
  {
   "cell_type": "code",
   "execution_count": 2,
   "metadata": {
    "collapsed": true
   },
   "outputs": [],
   "source": [
    "import os\n",
    "import sys"
   ]
  },
  {
   "cell_type": "code",
   "execution_count": 1,
   "metadata": {
    "collapsed": true
   },
   "outputs": [],
   "source": [
    "logDir = \"./logs/\""
   ]
  },
  {
   "cell_type": "code",
   "execution_count": 32,
   "metadata": {
    "collapsed": false
   },
   "outputs": [
    {
     "name": "stdout",
     "output_type": "stream",
     "text": [
      "['experiments-matrix-101-5.csv', 'experiments-matrix-101-3.csv', 'experiments-matrix-101-4.csv', 'experiments-matrix-101-3.log', 'experiments-matrix-101-4.log', 'experiments-matrix-101-5.log', 'experiments-matrix-101-2.log', 'experiments-matrix-101-1.log', 'experiments-matrix-101-2.csv', 'experiments-matrix-101-1.csv']\n",
      "./logs/logs-static-traces-static\n",
      "[]\n",
      "['experiments-matrix-101-5.csv', 'experiments-matrix-101-3.csv', 'experiments-matrix-101-4.csv', 'experiments-matrix-101-3.log', 'experiments-matrix-101-4.log', 'experiments-matrix-101-5.log', 'RUN_REPEATED_LAST.log', 'experiments-matrix-101-2.log', 'experiments-matrix-101-1.log', 'experiments-matrix-101-2.csv', 'experiments-matrix-101-1.csv', 'experiments-matrix-101.cooja_log']\n",
      "\n",
      "\n",
      "\n"
     ]
    }
   ],
   "source": [
    "for root, subdirs, files in os.walk(logDir):\n",
    "    if len(files) > 0:\n",
    "        toConvertFiles = [f for f in files if \"experiments-matrix-101-\" in f]\n",
    "        print toConvertFiles   \n",
    "        print root\n",
    "        print subdirs\n",
    "        print files\n",
    "        for fname in toConvertFiles:\n",
    "            with open(\"/\".join([root, fname]), \"r\") as f:\n",
    "                lines = f.readlines()\n",
    "                lines = lines[1:-2]\n",
    "                with open(\"/\".join([root, fname[:-3]])+\"csv\", \"w\") as out_f:\n",
    "                    for l in lines:\n",
    "                        out_f.write(l)\n",
    "            #os.remove(\"/\".join([root, fname]))\n",
    "        \n",
    "        print \"\\n\\n\"\n",
    "    else:\n",
    "        continue"
   ]
  }
 ],
 "metadata": {
  "kernelspec": {
   "display_name": "Python 2",
   "language": "python",
   "name": "python2"
  },
  "language_info": {
   "codemirror_mode": {
    "name": "ipython",
    "version": 2
   },
   "file_extension": ".py",
   "mimetype": "text/x-python",
   "name": "python",
   "nbconvert_exporter": "python",
   "pygments_lexer": "ipython2",
   "version": "2.7.9"
  }
 },
 "nbformat": 4,
 "nbformat_minor": 0
}
